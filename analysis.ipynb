{
 "cells": [
  {
   "cell_type": "code",
   "execution_count": 11,
   "id": "b2a33812",
   "metadata": {},
   "outputs": [
    {
     "name": "stdout",
     "output_type": "stream",
     "text": [
      "Output saved to: output.csv\n"
     ]
    }
   ],
   "source": [
    "import csv\n",
    "\n",
    "def parse_fasta(filename):\n",
    "    entries = []\n",
    "    with open(filename, 'r') as file:\n",
    "        lines = file.readlines()\n",
    "        for i in range(0, len(lines), 2):\n",
    "            entry = {}\n",
    "            header = lines[i].strip().split(',')\n",
    "            entry['id'] = int(header[1].split('=')[1])  # Extracting ID from the fasta file\n",
    "            entry['overall_confidence'] = float(header[4].split('=')[1])\n",
    "            entry['ligand_confidence'] = float(header[5].split('=')[1])\n",
    "            entry['seq_rec'] = float(header[6].split('=')[1])\n",
    "            sequence = lines[i+1].strip()\n",
    "            entry['sequence'] = sequence\n",
    "            residues = [sequence[idx] for idx in [28, 42, 44, 63, 66, 67, 71, 106, 110]]\n",
    "            entry['residues'] = residues\n",
    "            entries.append(entry)\n",
    "    return entries\n",
    "\n",
    "def save_to_csv(entries, output_filename):\n",
    "    residue_positions = [28, 42, 44, 63, 66, 67, 71, 106, 110]\n",
    "    header = ['id', 'overall_confidence', 'ligand_confidence', 'seq_rec'] + [f\"residue_{pos}\" for pos in residue_positions]\n",
    "\n",
    "    with open(output_filename, mode='w', newline='') as file:\n",
    "        writer = csv.DictWriter(file, fieldnames=header)\n",
    "        writer.writeheader()\n",
    "        for entry in entries:\n",
    "            row = {\n",
    "                'id': entry['id'],\n",
    "                'overall_confidence': entry['overall_confidence'],\n",
    "                'ligand_confidence': entry['ligand_confidence'],\n",
    "                'seq_rec': entry['seq_rec']\n",
    "            }\n",
    "            for idx, pos in enumerate(residue_positions):\n",
    "                row[f\"residue_{pos}\"] = entry['residues'][idx]\n",
    "            writer.writerow(row)\n",
    "\n",
    "filename = \"Mb.fa\"\n",
    "entries = parse_fasta(filename)\n",
    "\n",
    "output_filename = \"output.csv\"\n",
    "save_to_csv(entries, output_filename)\n",
    "\n",
    "print(\"Output saved to:\", output_filename)\n",
    "\n",
    "\n"
   ]
  },
  {
   "cell_type": "code",
   "execution_count": 12,
   "id": "d7ec5133",
   "metadata": {},
   "outputs": [
    {
     "name": "stdout",
     "output_type": "stream",
     "text": [
      "Residue at position 28: {'I': 471, 'L': 27, 'A': 2}\n",
      "Residue at position 42: {'F': 500}\n",
      "Residue at position 44: {'A': 500}\n",
      "Residue at position 63: {'A': 500}\n",
      "Residue at position 66: {'A': 112, 'T': 388}\n",
      "Residue at position 67: {'A': 500}\n",
      "Residue at position 71: {'L': 500}\n",
      "Residue at position 106: {'S': 500}\n",
      "Residue at position 110: {'I': 500}\n"
     ]
    }
   ],
   "source": [
    "def count_residue_occurrences(entries):\n",
    "    residue_positions = [28, 42, 44, 63, 66, 67, 71, 106, 110]\n",
    "    residue_counts = {pos: {} for pos in residue_positions}\n",
    "\n",
    "    for entry in entries:\n",
    "        for idx, pos in enumerate(residue_positions):\n",
    "            residue = entry['residues'][idx]\n",
    "            residue_counts[pos][residue] = residue_counts[pos].get(residue, 0) + 1\n",
    "\n",
    "    return residue_counts\n",
    "\n",
    "filename = \"Mb.fa\"\n",
    "entries = parse_fasta(filename)\n",
    "\n",
    "residue_counts = count_residue_occurrences(entries)\n",
    "\n",
    "# Printing the occurrence counts for each residue position\n",
    "for pos, counts in residue_counts.items():\n",
    "    print(f\"Residue at position {pos}: {counts}\")\n"
   ]
  },
  {
   "cell_type": "code",
   "execution_count": null,
   "id": "f4f90649",
   "metadata": {},
   "outputs": [],
   "source": []
  }
 ],
 "metadata": {
  "kernelspec": {
   "display_name": "Python 3 (ipykernel)",
   "language": "python",
   "name": "python3"
  },
  "language_info": {
   "codemirror_mode": {
    "name": "ipython",
    "version": 3
   },
   "file_extension": ".py",
   "mimetype": "text/x-python",
   "name": "python",
   "nbconvert_exporter": "python",
   "pygments_lexer": "ipython3",
   "version": "3.9.18"
  }
 },
 "nbformat": 4,
 "nbformat_minor": 5
}
