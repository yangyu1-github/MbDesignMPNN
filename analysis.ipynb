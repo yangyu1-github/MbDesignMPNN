{
 "cells": [
  {
   "cell_type": "code",
   "execution_count": 25,
   "id": "581c753c",
   "metadata": {},
   "outputs": [],
   "source": [
    "'''code written with ChatGPT and underwent human verification'''\n",
    "\n",
    "filename = \"Mb.fa\"\n",
    "residue_positions = [28, 42, 44, 63, 66, 67, 71, 106, 110] # residue number-1\n",
    "output_filename = \"output.csv\"\n",
    "residue_info = {\n",
    "    29: 'L', 43: 'F', 45: 'R', 64: 'V', 67: 'T', 68: 'A',\n",
    "    72: 'L', 107: 'I', 111: 'I'\n",
    "}\n",
    "#residue_numbers = [L29, F43, R45, V64, T67, A68, L72, I107, I111]# Set residue numbers as x-axis labels"
   ]
  },
  {
   "cell_type": "code",
   "execution_count": 26,
   "id": "b2a33812",
   "metadata": {},
   "outputs": [
    {
     "name": "stdout",
     "output_type": "stream",
     "text": [
      "Output saved to: output.csv\n"
     ]
    }
   ],
   "source": [
    "import csv\n",
    "\n",
    "def parse_fasta(filename):\n",
    "    entries = []\n",
    "    with open(filename, 'r') as file:\n",
    "        lines = file.readlines()\n",
    "        for i in range(0, len(lines), 2):\n",
    "            entry = {}\n",
    "            header = lines[i].strip().split(',')\n",
    "            entry['id'] = int(header[1].split('=')[1])  # Extracting ID from the fasta file\n",
    "            entry['overall_confidence'] = float(header[4].split('=')[1])\n",
    "            entry['ligand_confidence'] = float(header[5].split('=')[1])\n",
    "            entry['seq_rec'] = float(header[6].split('=')[1])\n",
    "            sequence = lines[i+1].strip()\n",
    "            entry['sequence'] = sequence\n",
    "            residues = [sequence[idx] for idx in residue_positions]\n",
    "            entry['residues'] = residues\n",
    "            entries.append(entry)\n",
    "    return entries\n",
    "\n",
    "def save_to_csv(entries, output_filename):\n",
    "\n",
    "    header = ['id', 'overall_confidence', 'ligand_confidence', 'seq_rec'] + [f\"residue_{pos}\" for pos in residue_positions]\n",
    "\n",
    "    with open(output_filename, mode='w', newline='') as file:\n",
    "        writer = csv.DictWriter(file, fieldnames=header)\n",
    "        writer.writeheader()\n",
    "        for entry in entries:\n",
    "            row = {\n",
    "                'id': entry['id'],\n",
    "                'overall_confidence': entry['overall_confidence'],\n",
    "                'ligand_confidence': entry['ligand_confidence'],\n",
    "                'seq_rec': entry['seq_rec']\n",
    "            }\n",
    "            for idx, pos in enumerate(residue_positions):\n",
    "                row[f\"residue_{pos}\"] = entry['residues'][idx]\n",
    "            writer.writerow(row)\n",
    "\n",
    "\n",
    "entries = parse_fasta(filename)\n",
    "\n",
    "save_to_csv(entries, output_filename)\n",
    "\n",
    "print(\"Output saved to:\", output_filename)\n",
    "\n",
    "\n"
   ]
  },
  {
   "cell_type": "code",
   "execution_count": 27,
   "id": "d7ec5133",
   "metadata": {},
   "outputs": [
    {
     "name": "stdout",
     "output_type": "stream",
     "text": [
      "Residue at position 28: {'I': 471, 'L': 27, 'A': 2}\n",
      "Residue at position 42: {'F': 500}\n",
      "Residue at position 44: {'A': 500}\n",
      "Residue at position 63: {'A': 500}\n",
      "Residue at position 66: {'A': 112, 'T': 388}\n",
      "Residue at position 67: {'A': 500}\n",
      "Residue at position 71: {'L': 500}\n",
      "Residue at position 106: {'S': 500}\n",
      "Residue at position 110: {'I': 500}\n"
     ]
    }
   ],
   "source": [
    "def count_residue_occurrences(entries):\n",
    "    residue_counts = {pos: {} for pos in residue_positions}\n",
    "\n",
    "    for entry in entries:\n",
    "        for idx, pos in enumerate(residue_positions):\n",
    "            residue = entry['residues'][idx]\n",
    "            residue_counts[pos][residue] = residue_counts[pos].get(residue, 0) + 1\n",
    "\n",
    "    return residue_counts\n",
    "\n",
    "entries = parse_fasta(filename)\n",
    "\n",
    "residue_counts = count_residue_occurrences(entries)\n",
    "\n",
    "# Printing the occurrence counts for each residue position\n",
    "for pos, counts in residue_counts.items():\n",
    "    print(f\"Residue at position {pos}: {counts}\")\n"
   ]
  },
  {
   "cell_type": "code",
   "execution_count": 28,
   "id": "1499d78d",
   "metadata": {},
   "outputs": [
    {
     "name": "stdout",
     "output_type": "stream",
     "text": [
      "data = {'A': [0.004, 0.0, 1.0, 1.0, 0.224, 1.0, 0.0, 0.0, 0.0], 'I': [0.942, 0.0, 0.0, 0.0, 0.0, 0.0, 0.0, 0.0, 1.0], 'F': [0.0, 1.0, 0.0, 0.0, 0.0, 0.0, 0.0, 0.0, 0.0], 'T': [0.0, 0.0, 0.0, 0.0, 0.776, 0.0, 0.0, 0.0, 0.0], 'L': [0.054, 0.0, 0.0, 0.0, 0.0, 0.0, 1.0, 0.0, 0.0], 'S': [0.0, 0.0, 0.0, 0.0, 0.0, 0.0, 0.0, 1.0, 0.0]}\n"
     ]
    }
   ],
   "source": [
    "def calculate_frequencies(entries):\n",
    "    amino_acids = set()\n",
    "    amino_acid_counts = {}\n",
    "\n",
    "    # Collect all unique amino acids\n",
    "    for entry in entries:\n",
    "        for residue in entry['residues']:\n",
    "            amino_acids.add(residue)\n",
    "\n",
    "    # Initialize count dictionary\n",
    "    counts = {pos: {aa: 0 for aa in amino_acids} for pos in residue_positions}\n",
    "\n",
    "    # Count occurrences of each amino acid at each position\n",
    "    for entry in entries:\n",
    "        for idx, residue in enumerate(entry['residues']):\n",
    "            counts[residue_positions[idx]][residue] += 1\n",
    "\n",
    "    # Initialize frequency dictionary\n",
    "    frequencies = {aa: [0] * len(residue_positions) for aa in amino_acids}\n",
    "\n",
    "    # Calculate frequencies\n",
    "    for idx in range(len(residue_positions)):\n",
    "        total_count = sum(counts[residue_positions[idx]].values())\n",
    "        for aa in amino_acids:\n",
    "            frequencies[aa][idx] = counts[residue_positions[idx]][aa] / total_count if total_count > 0 else 0\n",
    "\n",
    "    return frequencies\n",
    "\n",
    "entries = parse_fasta(filename)\n",
    "frequencies = calculate_frequencies(entries)\n",
    "\n",
    "# Format the frequencies into the required variable format\n",
    "data = {aa: freqs for aa, freqs in frequencies.items()}\n",
    "\n",
    "# Print the data\n",
    "print(\"data =\", data)\n"
   ]
  },
  {
   "cell_type": "code",
   "execution_count": 29,
   "id": "8743b354",
   "metadata": {},
   "outputs": [
    {
     "data": {
      "image/png": "[encoded data removed]",
      "text/plain": [
       "<Figure size 1000x250 with 1 Axes>"
      ]
     },
     "metadata": {},
     "output_type": "display_data"
    }
   ],
   "source": [
    "import logomaker\n",
    "import pandas as pd\n",
    "\n",
    "def plot_logo(data):\n",
    "    # Convert the data dictionary into a pandas DataFrame\n",
    "    df = pd.DataFrame(data)\n",
    "    \n",
    "    residue_labels = [f\"{residue_info[pos]}{pos}\" for pos in residue_info.keys()]\n",
    "    \n",
    "    # Define color scheme for amino acid letters\n",
    "    color_scheme = {    \n",
    "        'A': 'green', 'R': 'red', 'N': 'blue', 'D': 'purple', 'C': 'cyan',\n",
    "    'Q': 'orange', 'E': 'magenta', 'G': 'yellow', 'H': 'lime', 'I': 'brown',\n",
    "    'L': 'pink', 'K': 'teal', 'M': 'olive', 'F': 'navy', 'P': 'gold',\n",
    "    'S': 'indigo', 'T': 'violet', 'W': 'turquoise', 'Y': 'salmon', 'V': 'steelblue'\n",
    "}\n",
    "    \n",
    "    # Create the logo plot\n",
    "    logo = logomaker.Logo(df, color_scheme=color_scheme)\n",
    "\n",
    "    # Customize the appearance of the logo plot\n",
    "    logo.style_xticks(fmt='%d', anchor=0, spacing=20)\n",
    "    logo.ax.set_xticks(range(len(residue_labels)))\n",
    "    logo.ax.set_xticklabels(residue_labels)\n",
    "    logo.ax.set_title('Sequence Logo Plot')\n",
    "    \n",
    "    # Draw the plot\n",
    "    logo.draw()\n",
    "\n",
    "# Assuming 'data' variable is already defined\n",
    "plot_logo(data)\n",
    "\n",
    "\n"
   ]
  },
  {
   "cell_type": "code",
   "execution_count": null,
   "id": "591ae3ab",
   "metadata": {},
   "outputs": [],
   "source": []
  },
  {
   "cell_type": "code",
   "execution_count": null,
   "id": "b99ad9db",
   "metadata": {},
   "outputs": [],
   "source": []
  }
 ],
 "metadata": {
  "kernelspec": {
   "display_name": "Python 3 (ipykernel)",
   "language": "python",
   "name": "python3"
  },
  "language_info": {
   "codemirror_mode": {
    "name": "ipython",
    "version": 3
   },
   "file_extension": ".py",
   "mimetype": "text/x-python",
   "name": "python",
   "nbconvert_exporter": "python",
   "pygments_lexer": "ipython3",
   "version": "3.9.18"
  }
 },
 "nbformat": 4,
 "nbformat_minor": 5
}
